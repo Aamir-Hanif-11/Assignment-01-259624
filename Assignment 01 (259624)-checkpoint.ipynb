{
 "cells": [
  {
   "cell_type": "code",
   "execution_count": 10,
   "id": "0baabad9-4169-4781-98f3-4981a31087ef",
   "metadata": {},
   "outputs": [
    {
     "name": "stdout",
     "output_type": "stream",
     "text": [
      "Name:\t\tMuhammad Amir\n",
      "Father's Name:\tMuhammad Hanif Khan\n",
      "Date of Birth:\tJanuary 11\n"
     ]
    }
   ],
   "source": [
    "# 1. Print Your Name with your Father name and Date of birth using suitable escape sequence charactor\n",
    "\n",
    "name = \"Muhammad Amir\"\n",
    "father_name = \"Muhammad Hanif Khan\"\n",
    "date_of_birth = \"January 11\"\n",
    "\n",
    "print(\"Name:\\t\\t\" + name)\n",
    "print(\"Father's Name:\\t\" + father_name)\n",
    "print(\"Date of Birth:\\t\" + date_of_birth)"
   ]
  },
  {
   "cell_type": "code",
   "execution_count": 11,
   "id": "d12cc408-64cb-4e78-856c-1275e88dcbd7",
   "metadata": {},
   "outputs": [
    {
     "name": "stdout",
     "output_type": "stream",
     "text": [
      "Name:\t\tMuhammad Amir\n",
      "Father's Name:\tMuhammad Hanif Khan\n",
      "Date of Birth:\tJanuary 11\n",
      "Occupation:\tStudent\n",
      "Hobbies:\tLearning Paython\n"
     ]
    }
   ],
   "source": [
    "# 2. Write your small bio using variables and print it using print function\n",
    "occupation = \"Student\"\n",
    "hobbies = \"Learning Paython\"\n",
    "\n",
    "print(f\"Name:\\t\\t\"+ name)\n",
    "print(f\"Father's Name:\\t\" + father_name)\n",
    "print(f\"Date of Birth:\\t\" + date_of_birth)\n",
    "print(f\"Occupation:\\t\" + occupation)\n",
    "print(f\"Hobbies:\\t\" + hobbies)"
   ]
  },
  {
   "cell_type": "code",
   "execution_count": 3,
   "id": "5d6f90b9-a79e-4c68-844a-0c5dce96108f",
   "metadata": {},
   "outputs": [],
   "source": [
    "# 3. Write a program in which use all the operators we can use in Python\n",
    "\n",
    "# 1. Arithmetic Operators\n",
    "# 2. Logical Operators\n",
    "# 3. Comparison operators\n",
    "# 4. Bitwise operators\n",
    "# 5. Assignment operators\n",
    "# 6. Identity operators\n",
    "# 7. Membership operators"
   ]
  },
  {
   "cell_type": "code",
   "execution_count": 18,
   "id": "05831027-092c-4574-a46a-5f5371d28d8a",
   "metadata": {},
   "outputs": [
    {
     "name": "stdout",
     "output_type": "stream",
     "text": [
      "Arithmetic Operators:\n",
      "Addition\t: 5 + 3  = 8\n",
      "Subtraction\t: 5 - 3  = 2\n",
      "Multiplication\t: 5 * 3  = 15\n",
      "Division\t: 5 / 3  = 1.6666666666666667\n",
      "Floor Division\t: 5 // 3 = 1\n"
     ]
    }
   ],
   "source": [
    "# Arithmetic Operators are used with numeric values to perform common mathematical operations:\n",
    "\n",
    "a = 5\n",
    "b = 3\n",
    "\n",
    "print(\"Arithmetic Operators:\")\n",
    "print(f\"Addition\\t: {a} + {b}  = {a + b}\")\n",
    "print(f\"Subtraction\\t: {a} - {b}  = {a - b}\")\n",
    "print(f\"Multiplication\\t: {a} * {b}  = {a * b}\")\n",
    "print(f\"Division\\t: {a} / {b}  = {a / b}\")\n",
    "print(f\"Floor Division\\t: {a} // {b} = {a // b}\")"
   ]
  },
  {
   "cell_type": "code",
   "execution_count": 11,
   "id": "a420c8da-5fe7-4c77-afbe-8fe03185ef80",
   "metadata": {},
   "outputs": [
    {
     "name": "stdout",
     "output_type": "stream",
     "text": [
      "Logical Operators:\n",
      "Logical AND\t: True and False = False\n",
      "Logical OR\t: True or False\t = True\n",
      "Logical NOT\t: not True\t = False\n"
     ]
    }
   ],
   "source": [
    "# Logical Operators are used to combine conditional statements:\n",
    "\n",
    "x = True\n",
    "y = False\n",
    "\n",
    "print(\"Logical Operators:\")\n",
    "print(f\"Logical AND\\t: {x} and {y} = {x and y}\")\n",
    "print(f\"Logical OR\\t: {x} or {y}\\t = {x or y}\")\n",
    "print(f\"Logical NOT\\t: not {x}\\t = {not x}\")"
   ]
  },
  {
   "cell_type": "code",
   "execution_count": 19,
   "id": "9fd3e988-673f-4202-817f-e9f1c0d39e81",
   "metadata": {},
   "outputs": [
    {
     "name": "stdout",
     "output_type": "stream",
     "text": [
      "Comparison Operators:\n",
      "Equal\t\t: 5 == 3 = False\n",
      "Not Equal\t: 5 != 3 = True\n",
      "Greater Than\t: 5 > 3  = True\n",
      "Less Than\t: 5 < 3  = False\n",
      "Greater Than or Equal To: 5 >= 3 = True\n",
      "Less Than or Equal To: 5 <= 3 = False\n"
     ]
    }
   ],
   "source": [
    "# Comparison Operators are used to compare two values:\n",
    "\n",
    "print(\"Comparison Operators:\")\n",
    "print(f\"Equal\\t\\t: {a} == {b} = {a == b}\")\n",
    "print(f\"Not Equal\\t: {a} != {b} = {a != b}\")\n",
    "print(f\"Greater Than\\t: {a} > {b}  = {a > b}\")\n",
    "print(f\"Less Than\\t: {a} < {b}  = {a < b}\")\n",
    "print(f\"Greater Than or Equal To: {a} >= {b} = {a >= b}\")\n",
    "print(f\"Less Than or Equal To: {a} <= {b} = {a <= b}\")"
   ]
  },
  {
   "cell_type": "code",
   "execution_count": 21,
   "id": "c24487af-09ff-4fe5-a3c8-37b552d3d043",
   "metadata": {},
   "outputs": [
    {
     "name": "stdout",
     "output_type": "stream",
     "text": [
      "Marks in English\t: 75\n",
      "Marks in Islamiat\t: 92\n",
      "Marks in Maths\t\t: 95\n",
      "Total Marks\t\t: 300\n",
      "Obtained Marks\t\t: 262\n",
      "Percentage\t\t: 87.33%\n"
     ]
    }
   ],
   "source": [
    "# 4 Completes the following steps of small task:\n",
    "    # Mention Marks of English , Islamiat and Maths out of 100 in 3 different variables\n",
    "    # Mention Variable of Total Marks and assign 300 to it\n",
    "    # Calculate Percentage\n",
    "\n",
    "# Step 1: Declare variables for marks\n",
    "marks_english = 75\n",
    "marks_islamiat = 92\n",
    "marks_maths = 95\n",
    "\n",
    "# Step 2: Declare a variable for total marks and assign 300 to it\n",
    "total_marks = 300\n",
    "\n",
    "# Step 3: Calculate the percentage\n",
    "obtained_marks = marks_english + marks_islamiat + marks_maths\n",
    "percentage = (obtained_marks / total_marks) * 100\n",
    "\n",
    "# Print the results\n",
    "print(f\"Marks in English\\t: {marks_english}\")\n",
    "print(f\"Marks in Islamiat\\t: {marks_islamiat}\")\n",
    "print(f\"Marks in Maths\\t\\t: {marks_maths}\")\n",
    "print(f\"Total Marks\\t\\t: {total_marks}\")\n",
    "print(f\"Obtained Marks\\t\\t: {obtained_marks}\")\n",
    "print(f\"Percentage\\t\\t: {percentage:.2f}%\")"
   ]
  },
  {
   "cell_type": "code",
   "execution_count": null,
   "id": "6dc8fa77-60be-4bf1-b177-779f5264342a",
   "metadata": {},
   "outputs": [],
   "source": [
    "# 1. A company decided to give bonus of 5% to employee if his/her year of service is more than 5 years. Ask user for their salary and year of service and print the net bonus amount.\n",
    "\n",
    "# Function to calculate the bonus\n",
    "def calculate_bonus(salary, years_of_service):\n",
    "    if years_of_service > 5:\n",
    "        bonus = 0.05 * salary\n",
    "    else:\n",
    "        bonus = 0\n",
    "    return bonus\n",
    "\n",
    "# Ask user for their salary and years of service\n",
    "salary = float(input(\"Enter your salary: \"))\n",
    "years_of_service = int(input(\"Enter your years of service: \"))\n",
    "\n",
    "# Calculate the bonus\n",
    "bonus = calculate_bonus(salary, years_of_service)\n",
    "\n",
    "# Print the net bonus amount\n",
    "print(f\"Your net bonus amount is: {bonus}\")"
   ]
  },
  {
   "cell_type": "code",
   "execution_count": 4,
   "id": "8ddb2593-30f6-4897-ad21-0e26a650e0f8",
   "metadata": {},
   "outputs": [
    {
     "name": "stdin",
     "output_type": "stream",
     "text": [
      "Enter your age:  18\n"
     ]
    },
    {
     "name": "stdout",
     "output_type": "stream",
     "text": [
      "You are eligible to vote.\n"
     ]
    }
   ],
   "source": [
    "# Write a program to check whether a person is eligible for voting or not. (accept age from user) if age is greater than 17 eligible otherwise not eligible\n",
    "\n",
    "# Function to check voting eligibility\n",
    "def check_voting_eligibility(age):\n",
    "    if age > 17:\n",
    "        return \"You are eligible to vote.\"\n",
    "    else:\n",
    "        return \"You are not eligible to vote.\"\n",
    "\n",
    "# Ask user for their age\n",
    "age = int(input(\"Enter your age: \"))\n",
    "\n",
    "# Check and print the voting eligibility\n",
    "result = check_voting_eligibility(age)\n",
    "print(result)"
   ]
  },
  {
   "cell_type": "code",
   "execution_count": 7,
   "id": "30bda707-7189-4fb8-be9b-ec5386997e8d",
   "metadata": {},
   "outputs": [
    {
     "name": "stdin",
     "output_type": "stream",
     "text": [
      "Enter a number:  3\n"
     ]
    },
    {
     "name": "stdout",
     "output_type": "stream",
     "text": [
      "The number is odd.\n"
     ]
    }
   ],
   "source": [
    "# Write a program to check whether a number entered by user is even or odd.\n",
    "\n",
    "# Function to check if a number is even or odd\n",
    "def check_even_odd(number):\n",
    "    if number % 2 == 0:\n",
    "        return \"The number is even.\"\n",
    "    else:\n",
    "        return \"The number is odd.\"\n",
    "\n",
    "# Ask user for a number\n",
    "number = int(input(\"Enter a number: \"))\n",
    "\n",
    "# Check and print whether the number is even or odd\n",
    "result = check_even_odd(number)\n",
    "print(result)"
   ]
  },
  {
   "cell_type": "code",
   "execution_count": 8,
   "id": "b8bf29f1-5460-4e21-a4ed-aed3344f46d7",
   "metadata": {},
   "outputs": [
    {
     "name": "stdin",
     "output_type": "stream",
     "text": [
      "Enter a number:  2\n"
     ]
    },
    {
     "name": "stdout",
     "output_type": "stream",
     "text": [
      "The number is not divisible by 7.\n"
     ]
    }
   ],
   "source": [
    "# Write a program to check whether a number is divisible by 7 or not. Show Answer\n",
    "\n",
    "# Function to check if a number is divisible by 7\n",
    "def check_divisible_by_7(number):\n",
    "    if number % 7 == 0:\n",
    "        return \"The number is divisible by 7.\"\n",
    "    else:\n",
    "        return \"The number is not divisible by 7.\"\n",
    "\n",
    "# Ask user for a number\n",
    "number = int(input(\"Enter a number: \"))\n",
    "\n",
    "# Check and print whether the number is divisible by 7\n",
    "result = check_divisible_by_7(number)\n",
    "print(result)"
   ]
  },
  {
   "cell_type": "code",
   "execution_count": 10,
   "id": "a289cab3-73dd-449b-b766-5c97d342f363",
   "metadata": {},
   "outputs": [
    {
     "name": "stdin",
     "output_type": "stream",
     "text": [
      "Enter a number:  4\n"
     ]
    },
    {
     "name": "stdout",
     "output_type": "stream",
     "text": [
      "Bye\n"
     ]
    }
   ],
   "source": [
    "# Write a program to display \"Hello\" if a number entered by user is a multiple of five , otherwise print \"Bye\".\n",
    "\n",
    "# Function to check if a number is a multiple of five\n",
    "def check_multiple_of_five(number):\n",
    "    if number % 5 == 0:\n",
    "        return \"Hello\"\n",
    "    else:\n",
    "        return \"Bye\"\n",
    "\n",
    "# Ask user for a number\n",
    "number = int(input(\"Enter a number: \"))\n",
    "\n",
    "# Check and print the result\n",
    "result = check_multiple_of_five(number)\n",
    "print(result)"
   ]
  },
  {
   "cell_type": "code",
   "execution_count": 13,
   "id": "ad71df00-561f-4889-baae-a8b3d0f5b102",
   "metadata": {},
   "outputs": [
    {
     "name": "stdin",
     "output_type": "stream",
     "text": [
      "Enter a number:  03000458030\n"
     ]
    },
    {
     "name": "stdout",
     "output_type": "stream",
     "text": [
      "The last digit of the number is: 0\n"
     ]
    }
   ],
   "source": [
    "# Write a program to display the last digit of a number.\n",
    "\n",
    "# Function to get the last digit of a number\n",
    "def get_last_digit(number):\n",
    "    last_digit = number % 10\n",
    "    return last_digit\n",
    "\n",
    "# Ask user for a number\n",
    "number = int(input(\"Enter a number: \"))\n",
    "\n",
    "# Get and print the last digit\n",
    "last_digit = get_last_digit(number)\n",
    "print(f\"The last digit of the number is: {last_digit}\")"
   ]
  },
  {
   "cell_type": "code",
   "execution_count": 15,
   "id": "08f09da4-6468-4fd1-93b9-eb12f522fe20",
   "metadata": {},
   "outputs": [
    {
     "name": "stdin",
     "output_type": "stream",
     "text": [
      "Enter the length:  22\n",
      "Enter the breadth:  22\n"
     ]
    },
    {
     "name": "stdout",
     "output_type": "stream",
     "text": [
      "It is a square.\n"
     ]
    }
   ],
   "source": [
    "# Take values of length and breadth of a rectangle from user and print if it is square or rectangle.\n",
    "# Function to check if the shape is a square or a rectangle\n",
    "def check_shape(length, breadth):\n",
    "    if length == breadth:\n",
    "        return \"It is a square.\"\n",
    "    else:\n",
    "        return \"It is a rectangle.\"\n",
    "\n",
    "# Ask user for the length and breadth\n",
    "length = float(input(\"Enter the length: \"))\n",
    "breadth = float(input(\"Enter the breadth: \"))\n",
    "\n",
    "# Check and print whether it is a square or a rectangle\n",
    "result = check_shape(length, breadth)\n",
    "print(result)"
   ]
  },
  {
   "cell_type": "code",
   "execution_count": 17,
   "id": "e6752965-1c29-4815-b31c-62f1ddbe73e5",
   "metadata": {},
   "outputs": [
    {
     "name": "stdin",
     "output_type": "stream",
     "text": [
      "Enter the first number:  55\n",
      "Enter the second number:  11\n"
     ]
    },
    {
     "name": "stdout",
     "output_type": "stream",
     "text": [
      "The greatest number is: 55\n"
     ]
    }
   ],
   "source": [
    "# Take two int values from user and print greatest among them.\n",
    "\n",
    "# Function to find the greatest of two numbers\n",
    "def find_greatest(number1, number2):\n",
    "    if number1 > number2:\n",
    "        return f\"The greatest number is: {number1}\"\n",
    "    elif number2 > number1:\n",
    "        return f\"The greatest number is: {number2}\"\n",
    "    else:\n",
    "        return \"Both numbers are equal.\"\n",
    "\n",
    "# Ask user for two integer values\n",
    "number1 = int(input(\"Enter the first number: \"))\n",
    "number2 = int(input(\"Enter the second number: \"))\n",
    "\n",
    "# Find and print the greatest number\n",
    "result = find_greatest(number1, number2)\n",
    "print(result)"
   ]
  },
  {
   "cell_type": "code",
   "execution_count": 18,
   "id": "54c4986e-917a-4818-8e06-a1644b743f5e",
   "metadata": {},
   "outputs": [
    {
     "name": "stdin",
     "output_type": "stream",
     "text": [
      "Enter the quantity:  12\n"
     ]
    },
    {
     "name": "stdout",
     "output_type": "stream",
     "text": [
      "The total cost is: 1080.0\n"
     ]
    }
   ],
   "source": [
    "# A shop will give discount of 10% if the cost of purchased quantity is more than 1000. Ask user for quantity Suppose, one unit will cost 100. Judge and print total cost for user.\n",
    "\n",
    "# Function to calculate the total cost with possible discount\n",
    "def calculate_total_cost(quantity):\n",
    "    unit_cost = 100\n",
    "    total_cost = quantity * unit_cost\n",
    "    \n",
    "    if total_cost > 1000:\n",
    "        discount = 0.10 * total_cost\n",
    "        total_cost -= discount\n",
    "        \n",
    "    return total_cost\n",
    "\n",
    "# Ask user for the quantity\n",
    "quantity = int(input(\"Enter the quantity: \"))\n",
    "\n",
    "# Calculate and print the total cost\n",
    "total_cost = calculate_total_cost(quantity)\n",
    "print(f\"The total cost is: {total_cost}\")"
   ]
  },
  {
   "cell_type": "code",
   "execution_count": 20,
   "id": "9c37c51f-c21a-4669-9615-ac6b6b844a56",
   "metadata": {},
   "outputs": [
    {
     "name": "stdin",
     "output_type": "stream",
     "text": [
      "Enter your marks:  55\n"
     ]
    },
    {
     "name": "stdout",
     "output_type": "stream",
     "text": [
      "Your grade is: C\n"
     ]
    }
   ],
   "source": [
    "# A school has following rules for grading system:\n",
    "# a. Below 25 - F\n",
    "# b. 25 to 45 - E\n",
    "# c. 45 to 50 - D\n",
    "# d. 50 to 60 - C\n",
    "# e. 60 to 80 - B\n",
    "# f. Above 80 - A\n",
    "# Ask user to enter marks and print the corresponding grade.\n",
    "\n",
    "# Function to determine the grade based on marks\n",
    "def determine_grade(marks):\n",
    "    if marks < 25:\n",
    "        return \"F\"\n",
    "    elif 25 <= marks < 45:\n",
    "        return \"E\"\n",
    "    elif 45 <= marks < 50:\n",
    "        return \"D\"\n",
    "    elif 50 <= marks < 60:\n",
    "        return \"C\"\n",
    "    elif 60 <= marks < 80:\n",
    "        return \"B\"\n",
    "    elif marks >= 80:\n",
    "        return \"A\"\n",
    "\n",
    "# Ask user to enter their marks\n",
    "marks = int(input(\"Enter your marks: \"))\n",
    "\n",
    "# Determine and print the corresponding grade\n",
    "grade = determine_grade(marks)\n",
    "print(f\"Your grade is: {grade}\")"
   ]
  },
  {
   "cell_type": "code",
   "execution_count": 21,
   "id": "fde620b6-28dc-4108-865a-c6319d7938af",
   "metadata": {},
   "outputs": [
    {
     "name": "stdin",
     "output_type": "stream",
     "text": [
      "Enter the number of classes held:  5\n",
      "Enter the number of classes attended:  2\n"
     ]
    },
    {
     "name": "stdout",
     "output_type": "stream",
     "text": [
      "Attendance percentage: 40.0%\n",
      "You are not allowed to sit in the exam due to low attendance.\n"
     ]
    }
   ],
   "source": [
    "# A student will not be allowed to sit in exam if his/her attendence is less than 75%.\n",
    "# Take following input from user\n",
    "# Number of classes held\n",
    "# Number of classes attended.\n",
    "# And print\n",
    "# percentage of class attended\n",
    "# Is student is allowed to sit in exam or not.\n",
    "\n",
    "# Function to calculate attendance percentage and determine exam eligibility\n",
    "def check_exam_eligibility(classes_held, classes_attended):\n",
    "    attendance_percentage = (classes_attended / classes_held) * 100\n",
    "    \n",
    "    print(f\"Attendance percentage: {attendance_percentage}%\")\n",
    "    \n",
    "    if attendance_percentage >= 75:\n",
    "        return \"You are allowed to sit in the exam.\"\n",
    "    else:\n",
    "        return \"You are not allowed to sit in the exam due to low attendance.\"\n",
    "\n",
    "# Ask user for input: number of classes held and number of classes attended\n",
    "classes_held = int(input(\"Enter the number of classes held: \"))\n",
    "classes_attended = int(input(\"Enter the number of classes attended: \"))\n",
    "\n",
    "# Check and print exam eligibility based on attendance\n",
    "result = check_exam_eligibility(classes_held, classes_attended)\n",
    "print(result)"
   ]
  },
  {
   "cell_type": "code",
   "execution_count": 22,
   "id": "d13cbe84-de5c-40d4-bae9-089e37fcd330",
   "metadata": {},
   "outputs": [
    {
     "name": "stdin",
     "output_type": "stream",
     "text": [
      "Enter the number of classes held:  5\n",
      "Enter the number of classes attended:  2\n",
      "Do you have a medical cause? (Enter 'Y' for Yes, 'N' for No):  Y\n"
     ]
    },
    {
     "name": "stdout",
     "output_type": "stream",
     "text": [
      "Attendance percentage: 40.0%\n",
      "You are allowed to sit in the exam.\n"
     ]
    }
   ],
   "source": [
    "# Modify the above question to allow student to sit if he/she has medical cause. Ask user if he/she has medical cause or not ( 'Y' or 'N' ) and print accordingly.\n",
    "\n",
    "# Function to calculate attendance percentage and determine exam eligibility\n",
    "def check_exam_eligibility(classes_held, classes_attended, has_medical_cause):\n",
    "    attendance_percentage = (classes_attended / classes_held) * 100\n",
    "    \n",
    "    print(f\"Attendance percentage: {attendance_percentage}%\")\n",
    "    \n",
    "    if attendance_percentage >= 75 or has_medical_cause == 'Y':\n",
    "        return \"You are allowed to sit in the exam.\"\n",
    "    else:\n",
    "        return \"You are not allowed to sit in the exam due to low attendance.\"\n",
    "\n",
    "# Ask user for input: number of classes held, number of classes attended, and medical cause\n",
    "classes_held = int(input(\"Enter the number of classes held: \"))\n",
    "classes_attended = int(input(\"Enter the number of classes attended: \"))\n",
    "has_medical_cause = input(\"Do you have a medical cause? (Enter 'Y' for Yes, 'N' for No): \").upper()\n",
    "\n",
    "# Check and print exam eligibility based on attendance and medical cause\n",
    "result = check_exam_eligibility(classes_held, classes_attended, has_medical_cause)\n",
    "print(result)"
   ]
  },
  {
   "cell_type": "code",
   "execution_count": 23,
   "id": "4bbdc091-c877-4b77-a0ac-39ff9b5632ac",
   "metadata": {},
   "outputs": [
    {
     "name": "stdin",
     "output_type": "stream",
     "text": [
      "Enter a year:  21\n"
     ]
    },
    {
     "name": "stdout",
     "output_type": "stream",
     "text": [
      "21 is not a leap year.\n"
     ]
    }
   ],
   "source": [
    "# Write a program to check if a year is leap year or not.\n",
    "# If a year is divisible by 4 then it is leap year but if the year is century year like 2000, 1900, 2100 then it must be divisible by 400.\n",
    "\n",
    "# Function to check if a year is a leap year\n",
    "def is_leap_year(year):\n",
    "    if (year % 4 == 0 and year % 100 != 0) or (year % 400 == 0):\n",
    "        return True\n",
    "    else:\n",
    "        return False\n",
    "\n",
    "# Ask user for input: year\n",
    "year = int(input(\"Enter a year: \"))\n",
    "\n",
    "# Check and print whether the year is a leap year\n",
    "if is_leap_year(year):\n",
    "    print(f\"{year} is a leap year.\")\n",
    "else:\n",
    "    print(f\"{year} is not a leap year.\")"
   ]
  },
  {
   "cell_type": "code",
   "execution_count": 25,
   "id": "77241a2e-d1a3-4904-9d77-254a7c862d7a",
   "metadata": {},
   "outputs": [
    {
     "name": "stdin",
     "output_type": "stream",
     "text": [
      "Enter your age:  59\n",
      "Enter your gender (M/F):  M\n",
      "Enter your marital status (Y/N):  Y\n"
     ]
    },
    {
     "name": "stdout",
     "output_type": "stream",
     "text": [
      "You will work in urban areas only.\n"
     ]
    }
   ],
   "source": [
    "# Ask user to enter age, gender ( M or F ), marital status ( Y or N ) and then using following rules print their place of service.\n",
    "# if employee is female, then she will work only in urban areas.\n",
    "# if employee is a male and age is in between 20 to 40 then he may work in anywhere\n",
    "# if employee is male and age is in between 40 t0 60 then he will work in urban areas only.\n",
    "# And any other input of age should print \"ERROR\"\n",
    "\n",
    "# Function to determine place of service based on rules\n",
    "def determine_place_of_service(age, gender, marital_status):\n",
    "    if age < 20 or age > 60:\n",
    "        return \"ERROR: Invalid age range.\"\n",
    "    \n",
    "    if gender == 'F':\n",
    "        return \"You will work in urban areas.\"\n",
    "    \n",
    "    if gender == 'M':\n",
    "        if 20 <= age <= 40:\n",
    "            return \"You may work anywhere.\"\n",
    "        elif 40 <= age <= 60:\n",
    "            return \"You will work in urban areas only.\"\n",
    "    \n",
    "    return \"ERROR: Invalid input combination.\"\n",
    "\n",
    "# Ask user for input: age, gender, and marital status\n",
    "age = int(input(\"Enter your age: \"))\n",
    "gender = input(\"Enter your gender (M/F): \").upper()\n",
    "marital_status = input(\"Enter your marital status (Y/N): \").upper()\n",
    "\n",
    "# Check and print the place of service based on input\n",
    "result = determine_place_of_service(age, gender, marital_status)\n",
    "print(result)"
   ]
  },
  {
   "cell_type": "code",
   "execution_count": 27,
   "id": "ce192e0b-5a1b-401b-b45e-91acc13b6853",
   "metadata": {},
   "outputs": [
    {
     "name": "stdin",
     "output_type": "stream",
     "text": [
      "Enter the number of units consumed:  22\n"
     ]
    },
    {
     "name": "stdout",
     "output_type": "stream",
     "text": [
      "The total electricity bill amount is Rs. 0\n"
     ]
    }
   ],
   "source": [
    "# Write a program to calculate the electricity bill (accept number of unit from user) according to the following criteria : Unit Price\n",
    "# uptp 100 units no charge Next 200 units Rs 5 per unit After 200 units Rs 10 per unit (For example if input unit is 350 than total bill amount is Rs.3500 (For example if input unit is 97 than total bill amount is Rs.0 (For example if input unit is 150 than total bill amount is Rs.750\n",
    "\n",
    "# Function to calculate electricity bill\n",
    "def calculate_electricity_bill(units):\n",
    "    if units <= 100:\n",
    "        bill_amount = 0\n",
    "    elif units <= 300:\n",
    "        bill_amount = (units - 100) * 5\n",
    "    else:\n",
    "        bill_amount = (200 * 5) + (units - 300) * 10\n",
    "    return bill_amount\n",
    "\n",
    "# Ask user for input: number of units consumed\n",
    "units = int(input(\"Enter the number of units consumed: \"))\n",
    "\n",
    "# Calculate and print the electricity bill\n",
    "total_bill = calculate_electricity_bill(units)\n",
    "print(f\"The total electricity bill amount is Rs. {total_bill}\")"
   ]
  },
  {
   "cell_type": "code",
   "execution_count": 28,
   "id": "94274ef8-334d-4d24-b8f0-eda1b92ff5c3",
   "metadata": {},
   "outputs": [
    {
     "name": "stdin",
     "output_type": "stream",
     "text": [
      "Enter age of person 1:  22\n",
      "Enter age of person 2:  44\n",
      "Enter age of person 3:  11\n"
     ]
    },
    {
     "name": "stdout",
     "output_type": "stream",
     "text": [
      "The oldest person is 44 years old.\n",
      "The youngest person is 11 years old.\n"
     ]
    }
   ],
   "source": [
    "# Take input of age of 3 people by user and determine oldest and youngest among them.\n",
    "# Function to determine oldest and youngest among three people\n",
    "def find_oldest_and_youngest(age1, age2, age3):\n",
    "    ages = [age1, age2, age3]\n",
    "    oldest = max(ages)\n",
    "    youngest = min(ages)\n",
    "    return oldest, youngest\n",
    "\n",
    "# Ask user for input: age of three people\n",
    "age1 = int(input(\"Enter age of person 1: \"))\n",
    "age2 = int(input(\"Enter age of person 2: \"))\n",
    "age3 = int(input(\"Enter age of person 3: \"))\n",
    "\n",
    "# Find oldest and youngest among them\n",
    "oldest, youngest = find_oldest_and_youngest(age1, age2, age3)\n",
    "\n",
    "# Print the results\n",
    "print(f\"The oldest person is {oldest} years old.\")\n",
    "print(f\"The youngest person is {youngest} years old.\")"
   ]
  },
  {
   "cell_type": "code",
   "execution_count": null,
   "id": "29cf5721-c752-4e82-9cf2-7c4a5d383ba4",
   "metadata": {},
   "outputs": [],
   "source": []
  }
 ],
 "metadata": {
  "kernelspec": {
   "display_name": "Python 3 (ipykernel)",
   "language": "python",
   "name": "python3"
  },
  "language_info": {
   "codemirror_mode": {
    "name": "ipython",
    "version": 3
   },
   "file_extension": ".py",
   "mimetype": "text/x-python",
   "name": "python",
   "nbconvert_exporter": "python",
   "pygments_lexer": "ipython3",
   "version": "3.11.7"
  }
 },
 "nbformat": 4,
 "nbformat_minor": 5
}
